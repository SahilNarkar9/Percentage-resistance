{
  "nbformat": 4,
  "nbformat_minor": 0,
  "metadata": {
    "colab": {
      "name": "Sauce-1_Sahil Narkar.ipynb",
      "provenance": [],
      "collapsed_sections": []
    },
    "kernelspec": {
      "name": "python3",
      "display_name": "Python 3"
    },
    "language_info": {
      "name": "python"
    }
  },
  "cells": [
    {
      "cell_type": "code",
      "execution_count": 22,
      "metadata": {
        "colab": {
          "base_uri": "https://localhost:8080/",
          "height": 451
        },
        "id": "Yps0zZJnZS9I",
        "outputId": "70de0a6c-f791-4da8-80ab-f0dbd5ce21e0"
      },
      "outputs": [
        {
          "output_type": "stream",
          "name": "stdout",
          "text": [
            "Enter first number : 900\n",
            "Resistance 1: 909.0\n",
            "Resistance 2: 918.0\n",
            "Resistance 3: 927.0\n",
            "Support 1:  891.0\n",
            "Support 2:  882.0\n",
            "Support 3:  873.0\n",
            "Today's date is: 2022-04-03\n"
          ]
        },
        {
          "output_type": "execute_result",
          "data": {
            "text/plain": [
              "<function matplotlib.pyplot.show>"
            ]
          },
          "metadata": {},
          "execution_count": 22
        },
        {
          "output_type": "display_data",
          "data": {
            "text/plain": [
              "<Figure size 432x288 with 1 Axes>"
            ],
            "image/png": "[encoded data removed]"
          },
          "metadata": {
            "needs_background": "light"
          }
        }
      ],
      "source": [
        "#Sauce-1\n",
        "#Getting the opening price from the user\n",
        "#Opening Price indicated the price at which stocks open at 9.08AM Indian standard time\n",
        "num1 = float(input(\"Enter first number : \"))\n",
        "b = num1/100\n",
        "c = num1 + b ; d = num1 + (2*b) ; e = num1 + (3*b)\n",
        "f = num1 - b ; g = num1 - (2*b); h = num1 - (3*b)\n",
        "\n",
        "#Result Table\n",
        "print(\"Resistance 1:\",c)\n",
        "print(\"Resistance 2:\",d)\n",
        "print(\"Resistance 3:\",e)\n",
        "print(\"Support 1: \",f)\n",
        "print(\"Support 2: \",g)\n",
        "print(\"Support 3: \",h)\n",
        "\n",
        "#installing the libraries for plotting the points\n",
        "import datetime\n",
        "import matplotlib.pyplot as plt\n",
        "%matplotlib inline\n",
        "\n",
        "#plotting the resistances\n",
        "plt.axhline(y=c , color = 'r',linestyle = '-')\n",
        "plt.axhline(y=d , color = 'r',linestyle = '-')\n",
        "plt.axhline(y=e , color = 'r',linestyle = '-')\n",
        "\n",
        "#plotting the supports\n",
        "plt.axhline(y=f , color = 'g',linestyle = '-')\n",
        "plt.axhline(y=g , color = 'g',linestyle = '-')\n",
        "plt.axhline(y=h , color = 'g',linestyle = '-')\n",
        "\n",
        "#plotting the opening price just for reference\n",
        "plt.axhline(y=num1 , color = 'b',linestyle = ':')\n",
        "#-------------------------------\n",
        "import datetime\n",
        "from datetime import date\n",
        "\n",
        "today = date.today()\n",
        "print(\"Today's date is:\",today)\n",
        "\n",
        "#----------------------------------\n",
        "#plotting the axis\n",
        "plt.xlabel('Date')\n",
        "plt.ylabel('Support and resistances')\n",
        "plt.title('Daily SR Regions')\n",
        "\n",
        "\n",
        "plt.show\n",
        "\n"
      ]
    }
  ]
}